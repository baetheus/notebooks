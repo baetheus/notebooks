{
 "cells": [
  {
   "cell_type": "code",
   "execution_count": 3,
   "id": "db3e4071-4390-48e8-b9c3-8fe880f53a4b",
   "metadata": {},
   "outputs": [
    {
     "name": "stdout",
     "output_type": "stream",
     "text": [
      "{\n",
      "  name: \u001b[32m\"Ione Porcelain\"\u001b[39m,\n",
      "  ingredients: [\n",
      "    {\n",
      "      material: { name: \u001b[32m\"Ione Kaolin\"\u001b[39m, price: \u001b[33m1\u001b[39m, weight: \u001b[32m\"Pound\"\u001b[39m },\n",
      "      amount: \u001b[33m50\u001b[39m\n",
      "    },\n",
      "    {\n",
      "      material: { name: \u001b[32m\"Wollastonite\"\u001b[39m, price: \u001b[33m1\u001b[39m, weight: \u001b[32m\"Pound\"\u001b[39m },\n",
      "      amount: \u001b[33m25\u001b[39m\n",
      "    },\n",
      "    {\n",
      "      material: { name: \u001b[32m\"G200 EU Feldspar\"\u001b[39m, price: \u001b[33m1\u001b[39m, weight: \u001b[32m\"Pound\"\u001b[39m },\n",
      "      amount: \u001b[33m25\u001b[39m\n",
      "    }\n",
      "  ]\n",
      "}\n"
     ]
    }
   ],
   "source": [
    "type Weight = \"Pound\" | \"Kilogram\" | \"Gram\"\n",
    "type Material = { name: string, cost: number, weight: Weight };\n",
    "type Ingredient = { material: Material, amount: number };\n",
    "type Recipe = { name: string, ingredients: Ingredient[] };\n",
    "\n",
    "const materials: Record<string, Material> = {\n",
    "    wollastonite: { name: \"Wollastonite\", price: 1, weight: \"Pound\" },\n",
    "    ione_kaolin: { name: \"Ione Kaolin\", price: 1, weight: \"Pound\" },\n",
    "    g200: { name: \"G200 EU Feldspar\", price: 1, weight: \"Pound\" },\n",
    "}\n",
    "\n",
    "const porcelain: Recipe = {\n",
    "    name: \"Ione Porcelain\",\n",
    "    ingredients: [\n",
    "        { material: materials.ione_kaolin, amount: 50 },\n",
    "        { material: materials.wollastonite, amount: 25 },\n",
    "        { material: materials.g200, amount: 25 },\n",
    "    ]\n",
    "}\n",
    "\n",
    "console.log(porcelain);"
   ]
  },
  {
   "cell_type": "code",
   "execution_count": null,
   "id": "085dc3da-2198-47c9-af6f-4e3ef3913e9d",
   "metadata": {},
   "outputs": [],
   "source": []
  }
 ],
 "metadata": {
  "kernelspec": {
   "display_name": "Deno",
   "language": "typescript",
   "name": "deno"
  },
  "language_info": {
   "file_extension": ".ts",
   "mimetype": "text/x.typescript",
   "name": "typescript",
   "nb_converter": "script",
   "pygments_lexer": "typescript",
   "version": "5.2.2"
  }
 },
 "nbformat": 4,
 "nbformat_minor": 5
}
